{
 "cells": [
  {
   "cell_type": "code",
   "execution_count": null,
   "metadata": {},
   "outputs": [],
   "source": [
    "import yfinance as yf\n",
    "import matplotlib.pyplot as plt\n",
    "from sklearn.preprocessing import StandardScaler\n",
    "import pandas as pd\n",
    "\n",
    "# Lendo os tickers do arquivo tickers.csv\n",
    "tickers_df = pd.read_csv('tickers.csv')\n",
    "empresas = tickers_df['Ticker'].tolist()\n",
    "\n",
    "# Obtendo os dados das ações para o ano de 2020\n",
    "dados = yf.download(empresas, start=\"2020-01-01\", end=\"2020-12-31\")[\"Adj Close\"]\n",
    "\n",
    "# Normalizando os dados\n",
    "scaler = StandardScaler()\n",
    "dados_normalizados = scaler.fit_transform(dados)\n",
    "\n",
    "# Plotando gráficos separados para cada empresa\n",
    "for i, empresa in enumerate(empresas):\n",
    "    plt.figure(figsize=(12, 8))\n",
    "    plt.plot(dados.index, dados_normalizados[:, i], label=empresa)\n",
    "    plt.title(f\"Normalized Closing Prices (USD) for {empresa} in 2020\")\n",
    "    plt.xlabel(\"Date\")\n",
    "    plt.ylabel(\"Normalized Closing Prices (USD)\")\n",
    "    plt.legend(loc=\"upper left\")\n",
    "    plt.grid(False)\n",
    "    plt.show()\n"
   ]
  }
 ],
 "metadata": {
  "language_info": {
   "name": "python"
  }
 },
 "nbformat": 4,
 "nbformat_minor": 2
}
